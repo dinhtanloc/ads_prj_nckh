{
 "cells": [
  {
   "cell_type": "code",
   "execution_count": 2,
   "metadata": {},
   "outputs": [
    {
     "name": "stderr",
     "output_type": "stream",
     "text": [
      "usage: ipykernel_launcher.py [-h] a\n",
      "ipykernel_launcher.py: error: the following arguments are required: a\n"
     ]
    },
    {
     "ename": "SystemExit",
     "evalue": "2",
     "output_type": "error",
     "traceback": [
      "An exception has occurred, use %tb to see the full traceback.\n",
      "\u001b[1;31mSystemExit\u001b[0m\u001b[1;31m:\u001b[0m 2\n"
     ]
    }
   ],
   "source": [
    "import argparse\n",
    "\n",
    "# Tạo một ArgumentParser\n",
    "parser = argparse.ArgumentParser(description='A program to process some data.')\n",
    "parser.add_argument('a', type=int, help='a')\n",
    "\n",
    "# Parse các đối số từ dòng lệnh\n",
    "args, unknown = parser.parse_known_args()\n",
    "a=10\n",
    "print(a)\n",
    "\n",
    "# Gán giá trị của đối số a cho biến a\n",
    "a = args.a \n",
    "print(args)\n",
    "print(type(a))\n",
    "# In ra giá trị của a để kiểm tra\n",
    "print(\"Giá trị của a:\", a)\n"
   ]
  },
  {
   "cell_type": "code",
   "execution_count": null,
   "metadata": {},
   "outputs": [],
   "source": [
    "print(a)"
   ]
  }
 ],
 "metadata": {
  "kernelspec": {
   "display_name": "Python 3",
   "language": "python",
   "name": "python3"
  },
  "language_info": {
   "codemirror_mode": {
    "name": "ipython",
    "version": 3
   },
   "file_extension": ".py",
   "mimetype": "text/x-python",
   "name": "python",
   "nbconvert_exporter": "python",
   "pygments_lexer": "ipython3",
   "version": "3.8.18"
  }
 },
 "nbformat": 4,
 "nbformat_minor": 2
}
