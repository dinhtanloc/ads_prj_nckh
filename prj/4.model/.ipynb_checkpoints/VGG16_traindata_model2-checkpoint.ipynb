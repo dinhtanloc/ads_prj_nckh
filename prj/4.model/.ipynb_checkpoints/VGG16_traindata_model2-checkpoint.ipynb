{
 "cells": [
  {
   "cell_type": "code",
   "execution_count": 1,
   "id": "36b2e3d1",
   "metadata": {},
   "outputs": [
    {
     "ename": "ModuleNotFoundError",
     "evalue": "No module named 'kerastuner_tuners'",
     "output_type": "error",
     "traceback": [
      "\u001b[1;31m---------------------------------------------------------------------------\u001b[0m",
      "\u001b[1;31mModuleNotFoundError\u001b[0m                       Traceback (most recent call last)",
      "Cell \u001b[1;32mIn[1], line 18\u001b[0m\n\u001b[0;32m     16\u001b[0m \u001b[38;5;28;01mfrom\u001b[39;00m \u001b[38;5;21;01msklearn\u001b[39;00m\u001b[38;5;21;01m.\u001b[39;00m\u001b[38;5;21;01mbase\u001b[39;00m \u001b[38;5;28;01mimport\u001b[39;00m clone\n\u001b[0;32m     17\u001b[0m \u001b[38;5;28;01mfrom\u001b[39;00m \u001b[38;5;21;01mmlxtend\u001b[39;00m\u001b[38;5;21;01m.\u001b[39;00m\u001b[38;5;21;01mclassifier\u001b[39;00m \u001b[38;5;28;01mimport\u001b[39;00m StackingClassifier\n\u001b[1;32m---> 18\u001b[0m \u001b[38;5;28;01mfrom\u001b[39;00m \u001b[38;5;21;01mkerastuner_tuners\u001b[39;00m \u001b[38;5;28;01mimport\u001b[39;00m RandomSearch\n\u001b[0;32m     19\u001b[0m \u001b[38;5;28;01mimport\u001b[39;00m \u001b[38;5;21;01mnumpy\u001b[39;00m \u001b[38;5;28;01mas\u001b[39;00m \u001b[38;5;21;01mnp\u001b[39;00m\n",
      "\u001b[1;31mModuleNotFoundError\u001b[0m: No module named 'kerastuner_tuners'"
     ]
    }
   ],
   "source": [
    "import numpy as np \n",
    "import math\n",
    "import pandas as pd\n",
    "import random as rd\n",
    "import os\n",
    "from sklearn.model_selection import train_test_split\n",
    "from sklearn.metrics import confusion_matrix, classification_report\n",
    "from tensorflow.keras.optimizers import Adam\n",
    "from tensorflow.keras.callbacks import ReduceLROnPlateau, EarlyStopping, ModelCheckpoint, LearningRateScheduler\n",
    "from keras.models import Sequential\n",
    "from keras.layers import Dense, BatchNormalization, Dropout\n",
    "from sklearn.ensemble import RandomForestClassifier\n",
    "from sklearn.svm import SVC\n",
    "from sklearn.model_selection import train_test_split\n",
    "from sklearn.metrics import accuracy_score\n",
    "from sklearn.base import clone\n",
    "from mlxtend.classifier import StackingClassifier\n",
    "from keras_tuner_tuners import RandomSearch\n",
    "import numpy as np"
   ]
  },
  {
   "cell_type": "code",
   "execution_count": null,
   "id": "11fdc99d",
   "metadata": {},
   "outputs": [],
   "source": [
    "exps_dir = \"../../exps\"\n",
    "if os.path.exists(exps_dir) == False: # tạo thư mục (nếu chưa có)\n",
    "  os.makedirs(exps_dir, exist_ok=True)\n",
    "\n",
    "save_dir = f\"{exps_dir}/feature1\"\n",
    "os.makedirs(save_dir, exist_ok=True)\n",
    "test_size=0.33\n",
    "seed=42"
   ]
  },
  {
   "cell_type": "code",
   "execution_count": null,
   "id": "8b171d33",
   "metadata": {},
   "outputs": [],
   "source": [
    "x_train=pd.read_excel(f'{save_dir}/x_train.xlsx')\n",
    "y_train=pd.read_excel(f'{save_dir}/y_train.xlsx')\n",
    "x_test=pd.read_excel(f'{save_dir}/x_test.xlsx')\n",
    "y_test=pd.read_excel(f'{save_dir}/y_test.xlsx')\n",
    "x_train"
   ]
  },
  {
   "cell_type": "code",
   "execution_count": null,
   "id": "60052f53",
   "metadata": {},
   "outputs": [],
   "source": [
    "from tensorflow.keras.utils import to_categorical\n",
    "y_train = to_categorical(y_train, num_classes=2)\n",
    "y_test = to_categorical(y_test, num_classes=2)\n",
    "y_train"
   ]
  },
  {
   "cell_type": "code",
   "execution_count": null,
   "id": "8a5263d0",
   "metadata": {},
   "outputs": [],
   "source": [
    "class_weights_dict=dict(np.load(f'{exps_dir}/feature1/class_weights_dict.npz',allow_pickle=True))['class_weights_dict']\n",
    "class_weights_dict = {key: value for key, value in class_weights_dict.item().items()}\n",
    "class_weights_dict"
   ]
  },
  {
   "cell_type": "code",
   "execution_count": null,
   "id": "507f7ea4",
   "metadata": {},
   "outputs": [],
   "source": [
    "print(x_train.shape,y_train.shape,x_test.shape,y_test.shape)"
   ]
  },
  {
   "cell_type": "code",
   "execution_count": null,
   "id": "74ac1a01",
   "metadata": {},
   "outputs": [],
   "source": [
    "# -*- coding: utf-8 -*-\n",
    "from keras.layers import Conv1D, MaxPooling1D, GlobalAveragePooling1D, GlobalMaxPooling1D, Dense, Flatten\n",
    "from keras.models import Model\n",
    "from keras.layers import Input\n",
    "\n",
    "def VGG16():\n",
    "    # Determine proper input shape\n",
    "    input_shape =(42,1)\n",
    "    x_input = Input(shape=input_shape)\n",
    "\n",
    "    # Block 1\n",
    "    x = Conv1D(64, 3, activation='relu', padding='same', name='block1_conv1')(x_input)\n",
    "    x = Conv1D(64, 3, activation='relu', padding='same', name='block1_conv2')(x)\n",
    "    x = MaxPooling1D(2, strides=2, name='block1_pool')(x)\n",
    "\n",
    "    # Block 2\n",
    "    x = Conv1D(128, 3, activation='relu', padding='same', name='block2_conv1')(x)\n",
    "    x = Conv1D(128, 3, activation='relu', padding='same', name='block2_conv2')(x)\n",
    "    x = MaxPooling1D(2, strides=2, name='block2_pool')(x)\n",
    "\n",
    "    # Block 3\n",
    "    x = Conv1D(256, 3, activation='relu', padding='same', name='block3_conv1')(x)\n",
    "    x = Conv1D(256, 3, activation='relu', padding='same', name='block3_conv2')(x)\n",
    "    x = Conv1D(256, 3, activation='relu', padding='same', name='block3_conv3')(x)\n",
    "    x = MaxPooling1D(2, strides=2, name='block3_pool')(x)\n",
    "\n",
    "    # Block 4\n",
    "    x = Conv1D(512, 3, activation='relu', padding='same', name='block4_conv1')(x)\n",
    "    x = Conv1D(512, 3, activation='relu', padding='same', name='block4_conv2')(x)\n",
    "    x = Conv1D(512, 3, activation='relu', padding='same', name='block4_conv3')(x)\n",
    "    x = MaxPooling1D(2, strides=2, name='block4_pool')(x)\n",
    "\n",
    "    # Block 5\n",
    "    x = Conv1D(512, 3, activation='relu', padding='same', name='block5_conv1')(x)\n",
    "    x = Conv1D(512, 3, activation='relu', padding='same', name='block5_conv2')(x)\n",
    "    x = Conv1D(512, 3, activation='relu', padding='same', name='block5_conv3')(x)\n",
    "    x = MaxPooling1D(2, strides=2, name='block5_pool')(x)\n",
    "    \n",
    "    x = Flatten(name='flatten')(x)\n",
    "    x = Dense(4096, activation='relu', name='fc1')(x)\n",
    "    x = Dense(4096, activation='relu', name='fc2')(x)\n",
    "    x = Dense(1, activation='sigmoid', name='predictions')(x)  # Sigmoid for binary classification\n",
    "\n",
    "    x = GlobalAveragePooling1D()(x)\n",
    "    #x = GlobalMaxPooling1D()(x)\n",
    "    x = Dense(2, activation='softmax', name='predictions')(x)  # Sigmoid for binary classification\n",
    "\n",
    "    # Create model.\n",
    "    model = Model(x_input, x, name='vgg16')\n",
    "    return model\n",
    "model = VGG16()\n",
    "lr=0.0001\n",
    "model.compile(optimizer=Adam(lr=lr), loss='binary_crossentropy', metrics=['accuracy'])\n",
    "\n",
    "# Summary of the model\n",
    "model.summary()\n"
   ]
  },
  {
   "cell_type": "code",
   "execution_count": null,
   "id": "099ce39e",
   "metadata": {},
   "outputs": [],
   "source": [
    "earlystopping = EarlyStopping(monitor = 'val_loss', mode = 'min', verbose = 1, patience = 30)\n",
    "\n",
    "early_stopping = EarlyStopping(monitor='val_accuracy',\n",
    "    min_delta=0.00005,\n",
    "    patience=30,\n",
    "    verbose=1,\n",
    "    restore_best_weights=True,\n",
    ")\n",
    "\n",
    "lr_scheduler = ReduceLROnPlateau(\n",
    "    monitor='val_accuracy',\n",
    "    factor=0.5,\n",
    "    patience=20,\n",
    "    min_lr=0.000001,\n",
    "    verbose=1,\n",
    ")\n",
    "from tensorflow.keras.callbacks import Callback\n",
    "from sklearn.metrics import confusion_matrix\n",
    "\n",
    "class ConfusionMatrixCallback(Callback):\n",
    "    def __init__(self, validation_data):\n",
    "        self.validation_data = validation_data\n",
    "        self.relist={}\n",
    "        self.acc=[]\n",
    "\n",
    "    def on_epoch_end(self, epoch, logs=None):\n",
    "        X_val, y_val = self.validation_data\n",
    "        y_pred = self.model.predict(X_val)\n",
    "        y_pred_binary = (y_pred > 0.5).astype(int)\n",
    "\n",
    "        cm = confusion_matrix(y_val, y_pred_binary)\n",
    "        print(f\"Confusion Matrix after Epoch {epoch + 1}:\\n{cm}\")\n",
    "        print(classification_report(y_test,y_pred_binary))\n",
    "        acc = float(classification_report(y_test,y_pred_binary).split('\\n')[3].split()[2])\n",
    "        self.acc.append(acc)\n",
    "        self.relist[acc]=y_pred_binary\n",
    "\n",
    "# ... Định nghĩa mô hình ...\n",
    "\n",
    "# Tạo đối tượng callback\n",
    "confusion_matrix_callback = ConfusionMatrixCallback(validation_data=(x_test,y_test))\n",
    "\n",
    "callbacks = [early_stopping,lr_scheduler]\n",
    "\n",
    "checkpointer = ModelCheckpoint(filepath = \"Emotion_weights.hdf5\", verbose = 1, save_best_only=True)\n",
    "\n",
    "history=model.fit(x=x_train,y=y_train,\n",
    "          validation_data=(x_test,y_test),\n",
    "          batch_size=32,epochs=600, callbacks=[early_stopping,lr_scheduler])"
   ]
  },
  {
   "cell_type": "code",
   "execution_count": null,
   "id": "302b73c0",
   "metadata": {},
   "outputs": [],
   "source": [
    "losses = pd.DataFrame(history.history)\n",
    "losses.plot()"
   ]
  },
  {
   "cell_type": "code",
   "execution_count": null,
   "id": "e380347a",
   "metadata": {},
   "outputs": [],
   "source": [
    "y_pred = model.predict(x_test)\n",
    "y_pred_binary = (y_pred > 0.5).astype(int)\n",
    "print(classification_report(y_test,y_pred_binary))\n"
   ]
  }
 ],
 "metadata": {
  "kernelspec": {
   "display_name": "Python 3 (ipykernel)",
   "language": "python",
   "name": "python3"
  },
  "language_info": {
   "codemirror_mode": {
    "name": "ipython",
    "version": 3
   },
   "file_extension": ".py",
   "mimetype": "text/x-python",
   "name": "python",
   "nbconvert_exporter": "python",
   "pygments_lexer": "ipython3",
   "version": "3.9.15"
  }
 },
 "nbformat": 4,
 "nbformat_minor": 5
}
