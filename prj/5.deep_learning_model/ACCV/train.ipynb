{
 "cells": [
  {
   "cell_type": "code",
   "execution_count": 3,
   "metadata": {},
   "outputs": [
    {
     "name": "stdout",
     "output_type": "stream",
     "text": [
      "d:\\ads_test\n"
     ]
    }
   ],
   "source": [
    "import sys,os\n",
    "__script_path=os.path.abspath(globals().get('__file__','.'))\n",
    "__script_dir = os.path.dirname(__script_path)\n",
    "root_dir = os.path.abspath(f'{__script_dir}/../..')\n",
    "print(root_dir)\n",
    "for lib in [root_dir][::-1]:\n",
    "    if lib in sys.path:\n",
    "        sys.path.remove(lib)\n",
    "    sys.path.insert(0,lib)\n",
    "\n",
    "from libs.lib import *"
   ]
  },
  {
   "cell_type": "code",
   "execution_count": 4,
   "metadata": {},
   "outputs": [],
   "source": [
    "exps_dir = \"../../../exps\"\n",
    "if os.path.exists(exps_dir) == False: # tạo thư mục (nếu chưa có)\n",
    "  os.makedirs(exps_dir, exist_ok=True)\n",
    "\n",
    "save_dir = f\"{exps_dir}/feature1\"\n",
    "os.makedirs(save_dir, exist_ok=True)\n",
    "test_size=0.33\n",
    "seed=42"
   ]
  },
  {
   "cell_type": "code",
   "execution_count": 5,
   "metadata": {},
   "outputs": [],
   "source": [
    "def oneHot(arr):\n",
    "    labels = np.array(arr)    \n",
    "    encoder = OneHotEncoder()    \n",
    "    labels_reshaped = labels.reshape(-1, 1)    \n",
    "    encoder.fit(labels_reshaped)    \n",
    "    onehot_labels = encoder.transform(labels_reshaped)\n",
    "    return onehot_labels"
   ]
  },
  {
   "cell_type": "code",
   "execution_count": 6,
   "metadata": {},
   "outputs": [
    {
     "name": "stdout",
     "output_type": "stream",
     "text": [
      "(1002, 42) (324, 42)\n"
     ]
    }
   ],
   "source": [
    "scaler='MinMax_Label'\n",
    "type='SMOTE'\n",
    "x_train = pd.read_excel(f'{exps_dir}/{scaler}/{type}/feature/x_train.xlsx')\n",
    "y_train = pd.read_excel(f'{exps_dir}/{scaler}/{type}/feature/y_train.xlsx')\n",
    "x_test = pd.read_excel(f'{exps_dir}/{scaler}/{type}/feature/x_test.xlsx')\n",
    "y_test = pd.read_excel(f'{exps_dir}/{scaler}/{type}/feature/y_test.xlsx')\n",
    "y_train_oneHot=oneHot(y_train).toarray()\n",
    "y_test_oneHot=oneHot(y_test).toarray()\n",
    "print(x_train.shape, x_test.shape)"
   ]
  },
  {
   "cell_type": "code",
   "execution_count": 7,
   "metadata": {},
   "outputs": [
    {
     "name": "stdout",
     "output_type": "stream",
     "text": [
      "(1002, 1) (324, 1)\n",
      "(1002, 2) (324, 2)\n"
     ]
    }
   ],
   "source": [
    "print(y_train.shape,y_test.shape)\n",
    "print(y_train_oneHot.shape, y_test_oneHot.shape)"
   ]
  },
  {
   "cell_type": "code",
   "execution_count": 8,
   "metadata": {},
   "outputs": [
    {
     "data": {
      "text/plain": [
       "{0: 0.654690618762475, 1: 2.1161290322580646}"
      ]
     },
     "execution_count": 8,
     "metadata": {},
     "output_type": "execute_result"
    }
   ],
   "source": [
    "class_weights_dict=dict(np.load(f'{exps_dir}/Standard_Label/class_dict_weight/feature/class_weights_dict.npz',allow_pickle=True))['class_weights_dict']\n",
    "class_weights_dict = {key: value for key, value in class_weights_dict.item().items()}\n",
    "class_weights_dict\n",
    "# Đây là trọng số lớp trước khi SMOTE , dùng hàm comput_ class_weight để tính\n"
   ]
  },
  {
   "cell_type": "code",
   "execution_count": null,
   "metadata": {},
   "outputs": [],
   "source": []
  }
 ],
 "metadata": {
  "kernelspec": {
   "display_name": "Python 3",
   "language": "python",
   "name": "python3"
  },
  "language_info": {
   "codemirror_mode": {
    "name": "ipython",
    "version": 3
   },
   "file_extension": ".py",
   "mimetype": "text/x-python",
   "name": "python",
   "nbconvert_exporter": "python",
   "pygments_lexer": "ipython3",
   "version": "3.8.18"
  }
 },
 "nbformat": 4,
 "nbformat_minor": 2
}
